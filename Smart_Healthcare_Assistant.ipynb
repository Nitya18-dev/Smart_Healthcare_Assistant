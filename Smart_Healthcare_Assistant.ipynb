{
  "nbformat": 4,
  "nbformat_minor": 0,
  "metadata": {
    "colab": {
      "provenance": []
    },
    "kernelspec": {
      "name": "python3",
      "display_name": "Python 3"
    },
    "language_info": {
      "name": "python"
    }
  },
  "cells": [
    {
      "cell_type": "code",
      "execution_count": null,
      "metadata": {
        "id": "vosQcIKP2rqp"
      },
      "outputs": [],
      "source": [
        "import numpy as np\n",
        "import pandas as pd\n",
        "from sklearn.model_selection import train_test_split\n",
        "from sklearn.ensemble import GradientBoostingClassifier\n",
        "from sklearn.preprocessing import StandardScaler\n",
        "from sklearn.impute import SimpleImputer\n"
      ]
    },
    {
      "cell_type": "code",
      "source": [
        "data = pd.DataFrame({\n",
        "    \"age\": [25, 45, 34, 50, 60, 29, 42, 38, 65, 70, 55, 40],\n",
        "    \"gender\": [\"Male\", \"Female\", \"Male\", \"Female\", \"Male\", \"Female\", \"Male\", \"Female\", \"Male\", \"Female\", \"Male\", \"Female\"],\n",
        "    \"fever\": [1, 1, 0, 0, 1, 1, 0, 0, 1, 0, 1, 0],\n",
        "    \"cough\": [1, 0, 1, 0, 1, 1, 0, 0, 0, 1, 1, 0],\n",
        "    \"headache\": [1, 1, 0, 1, 0, 1, 1, 0, 0, 0, 1, 1],\n",
        "    \"body_pain\": [0, 1, 1, 0, 1, 1, 0, 0, 1, 0, 0, 1],\n",
        "    \"fatigue\": [1, 0, 0, 1, 1, 0, 1, 0, 1, 1, 0, 1],\n",
        "    \"loss_of_taste\": [0, 0, 0, 0, 1, 1, 0, 0, 1, 0, 0, 0],\n",
        "    \"shortness_of_breath\": [0, 0, 0, 1, 1, 0, 0, 1, 0, 1, 0, 0],\n",
        "    \"disease\": [\n",
        "        \"Flu\", \"Dengue\", \"Common Cold\", \"Malaria\",\n",
        "        \"COVID-19\", \"COVID-19\", \"Malaria\", \"Common Cold\",\n",
        "        \"COVID-19\", \"Common Cold\", \"Flu\", \"Malaria\"\n",
        "    ]\n",
        "})"
      ],
      "metadata": {
        "id": "Q_6lDtss3i_Z"
      },
      "execution_count": null,
      "outputs": []
    },
    {
      "cell_type": "code",
      "source": [
        "data['gender'] = data['gender'].map({\"Male\": 0, \"Female\": 1})\n",
        "X = data.drop(columns=['disease'])\n",
        "y = data['disease']"
      ],
      "metadata": {
        "id": "ogjA8Wjn3oBh"
      },
      "execution_count": null,
      "outputs": []
    },
    {
      "cell_type": "code",
      "source": [
        "imputer = SimpleImputer(strategy='mean')\n",
        "X = imputer.fit_transform(X)\n",
        "scaler = StandardScaler()\n",
        "X = scaler.fit_transform(X)"
      ],
      "metadata": {
        "id": "U7Uwhe_S3qup"
      },
      "execution_count": null,
      "outputs": []
    },
    {
      "cell_type": "code",
      "source": [
        "X_train, X_test, y_train, y_test = train_test_split(X, y, test_size=0.3, random_state=42)\n"
      ],
      "metadata": {
        "id": "GOmh74Uw3tyU"
      },
      "execution_count": null,
      "outputs": []
    },
    {
      "cell_type": "code",
      "source": [
        "model = GradientBoostingClassifier(n_estimators=100, learning_rate=0.1, max_depth=5, random_state=42)\n",
        "model.fit(X_train, y_train)"
      ],
      "metadata": {
        "id": "HmBGgjtB3we5"
      },
      "execution_count": null,
      "outputs": []
    },
    {
      "cell_type": "code",
      "source": [
        "def get_user_inputs():\n",
        "    print(\"\\nWelcome to the Healthcare Assistant!\")\n",
        "    print(\"Please enter the following details:\\n\")\n",
        "    questions = [\n",
        "        (\"age\", \"Enter your age: \"),\n",
        "        (\"gender\", \"Enter your gender (0 for Male, 1 for Female): \"),\n",
        "        (\"fever\", \"Do you have a fever? (1 for Yes, 0 for No): \"),\n",
        "        (\"cough\", \"Do you have a cough? (1 for Yes, 0 for No): \"),\n",
        "        (\"headache\", \"Do you have a headache? (1 for Yes, 0 for No): \"),\n",
        "        (\"body_pain\", \"Do you have body pain? (1 for Yes, 0 for No): \"),\n",
        "        (\"fatigue\", \"Do you feel fatigued? (1 for Yes, 0 for No): \"),\n",
        "        (\"loss_of_taste\", \"Have you lost your sense of taste? (1 for Yes, 0 for No): \"),\n",
        "        (\"shortness_of_breath\", \"Do you have shortness of breath? (1 for Yes, 0 for No): \")\n",
        "    ]\n",
        "    user_inputs = []\n",
        "    for _, question in questions:\n",
        "        while True:\n",
        "            try:\n",
        "                value = float(input(question))\n",
        "                user_inputs.append(value)\n",
        "                break\n",
        "            except ValueError:\n",
        "                print(\"Invalid input! Please enter a valid number.\")\n",
        "    return np.array([user_inputs])"
      ],
      "metadata": {
        "id": "v0cljSab6x4B"
      },
      "execution_count": null,
      "outputs": []
    },
    {
      "cell_type": "code",
      "source": [
        "def display_results(features):\n",
        "    probabilities = model.predict_proba(features)[0]\n",
        "    sorted_indices = np.argsort(probabilities)[::-1]\n",
        "    print(\"\\nDisease Prediction Results:\")\n",
        "    for idx in sorted_indices:\n",
        "        print(f\"- {model.classes_[idx]}: {probabilities[idx] * 100:.2f}%\")\n",
        "    print(f\"\\nMost probable disease: {model.classes_[sorted_indices[0]]}\")"
      ],
      "metadata": {
        "id": "_xUCiY4963d4"
      },
      "execution_count": null,
      "outputs": []
    },
    {
      "cell_type": "code",
      "source": [
        "00\n",
        "if __name__ == \"__main__\":\n",
        "    user_features = scaler.transform(get_user_inputs())\n",
        "    display_results(user_features)\n"
      ],
      "metadata": {
        "colab": {
          "base_uri": "https://localhost:8080/"
        },
        "id": "lwIBB8hc67aI",
        "outputId": "62d942a1-1ddc-4dea-bd54-2abea9339bc7"
      },
      "execution_count": null,
      "outputs": [
        {
          "output_type": "stream",
          "name": "stdout",
          "text": [
            "\n",
            "Welcome to the Healthcare Assistant!\n",
            "Please enter the following details:\n",
            "\n",
            "Enter your age: 25\n",
            "Enter your gender (0 for Male, 1 for Female): \n",
            "Invalid input! Please enter a valid number.\n",
            "Enter your gender (0 for Male, 1 for Female): 1\n",
            "Do you have a fever? (1 for Yes, 0 for No): 1\n",
            "Do you have a cough? (1 for Yes, 0 for No): 1\n",
            "Do you have a headache? (1 for Yes, 0 for No): 1\n",
            "Do you have body pain? (1 for Yes, 0 for No): 0\n",
            "Do you feel fatigued? (1 for Yes, 0 for No): 1\n",
            "Have you lost your sense of taste? (1 for Yes, 0 for No): 0\n",
            "Do you have shortness of breath? (1 for Yes, 0 for No): 0\n",
            "\n",
            "Disease Prediction Results:\n",
            "- Malaria: 99.99%\n",
            "- Common Cold: 0.00%\n",
            "- COVID-19: 0.00%\n",
            "- Dengue: 0.00%\n",
            "\n",
            "Most probable disease: Malaria\n"
          ]
        }
      ]
    }
  ]
}